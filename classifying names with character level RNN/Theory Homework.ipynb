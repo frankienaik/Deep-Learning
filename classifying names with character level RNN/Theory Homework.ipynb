{
 "cells": [
  {
   "cell_type": "markdown",
   "metadata": {},
   "source": [
    "## Task 1:\n",
    "\n",
    "1.1:\n",
    "\n",
    "$\\begin{equation*}\n",
    "c_{t-1}\n",
    "\\end{equation*}$\n",
    "is not a function of\n",
    "$\\begin{equation*}\n",
    "h_{t-1}\n",
    "\\end{equation*}$.\n",
    " This is so as \n",
    "$\\begin{equation*}\n",
    "c_{t-1}\n",
    "\\end{equation*}$\n",
    "is a function of \n",
    "$\\begin{equation*}\n",
    "c_{t-2}\n",
    "\\end{equation*}$\n",
    "and\n",
    "$\\begin{equation*}\n",
    "f_{t-1}\n",
    "\\end{equation*}$\n",
    "and\n",
    "$\\begin{equation*}\n",
    "i_{t-1}\n",
    "\\end{equation*}$\n",
    "and\n",
    "$\\begin{equation*}\n",
    "u_{t-1}\n",
    "\\end{equation*}$,\n",
    " whereby \n",
    "$\\begin{equation*}\n",
    "f_{t-1}\n",
    "\\end{equation*}$\n",
    "and\n",
    "$\\begin{equation*}\n",
    "i_{t-1}\n",
    "\\end{equation*}$\n",
    "and\n",
    "$\\begin{equation*}\n",
    "u_{t-1}\n",
    "\\end{equation*}$\n",
    "is a function of \n",
    "$\\begin{equation*}\n",
    "h_{t-2}\n",
    "\\end{equation*}$\n",
    "and not\n",
    "$\\begin{equation*}\n",
    "h_{t-1}\n",
    "\\end{equation*}$.\n",
    " Thus, \n",
    "$\\begin{equation*}\n",
    "c_{t-1}\n",
    "\\end{equation*}$\n",
    "is not a function of\n",
    "$\\begin{equation*}\n",
    "h_{t-1}\n",
    "\\end{equation*}$."
   ]
  },
  {
   "cell_type": "markdown",
   "metadata": {},
   "source": [
    "1.2:\n",
    "$$\\begin{equation*}\n",
    "\\frac {\\partial h_t} {\\partial h_{t-1}} = \\frac {\\partial o_t} {\\partial h_{t-1}} \\circ tanh(c_t) + o_t \\circ \\frac {\\partial tanh(c_t)} {\\partial h_{t-1}}\n",
    "\\end{equation*}$$\n",
    "$$\\begin{equation*}\n",
    "= \\frac {\\partial o_t} {\\partial h_{t-1}} \\circ tanh(c_t) + o_t \\circ (1 - tanh^2(c_t)) (\\frac {\\partial f_t} {\\partial h_{t-1}} \\circ c_{t-1} + \\frac {\\partial i_t} {\\partial h_{t-1}} \\circ U_t + \\frac {\\partial U_t} {\\partial h_{t-1}} \\circ i_t)\n",
    "\\end{equation*}$$"
   ]
  },
  {
   "cell_type": "markdown",
   "metadata": {},
   "source": [
    "1.3:  \n",
    "$$\\begin{equation*}\n",
    "\\sigma '(z) =  \\frac {\\partial (e^{-z} + 1)^{-1}} {\\partial z}\n",
    "\\end{equation*}$$\n",
    "$$\\begin{equation*}\n",
    "=(e^{-z} + 1)^{-2} \\times -1 \\times -e^{-z}\n",
    "\\end{equation*}$$\n",
    "$$\\begin{equation*}\n",
    "=\\sigma (z)(-e^{-z})(e^{-z} + 1)^{-1}\n",
    "\\end{equation*}$$\n",
    "$$\\begin{equation*}\n",
    "=\\sigma (z)(1-(1-e^{-z}))^{-1}\n",
    "\\end{equation*}$$\n",
    "$$\\begin{equation*}\n",
    "=\\sigma (z)(1-\\sigma(z))\n",
    "\\end{equation*}$$"
   ]
  },
  {
   "cell_type": "markdown",
   "metadata": {},
   "source": [
    "1.4:  \n",
    "$$\\begin{equation*}\n",
    "\\frac {\\partial f_t} {\\partial h_{t-1}} = \\frac {\\partial \\sigma (W^fx_t + U^fh_{t-1})} {\\partial h_{t-1}}\n",
    "\\end{equation*}$$\n",
    "$$\\begin{equation*}\n",
    "= \\sigma ' (W^fx_t + U^fh_{t-1}) U^f\n",
    "\\end{equation*}$$"
   ]
  },
  {
   "cell_type": "markdown",
   "metadata": {},
   "source": [
    "1.5: how to activate a gate  \n",
    "By ensuring that the values passed into the sigmoid function is large enough such that the output of the sigmoid is close to 1. In this case,\n",
    "$\\begin{equation*}\n",
    "W^fx_t + U^fh_{t-1}\n",
    "\\end{equation*}$\n",
    "is the input and we need to ensure that it is large enough."
   ]
  },
  {
   "cell_type": "markdown",
   "metadata": {},
   "source": [
    "1.6: if \n",
    "$\\begin{equation*}\n",
    "x_t = 0\n",
    "\\end{equation*}$  \n",
    "given that \n",
    "$\\begin{equation*}\n",
    "x_t = 0\n",
    "\\end{equation*}$,\n",
    "we only need to consider\n",
    "$\\begin{equation*}\n",
    "U^f(d) \\cdot h_{t-1}\n",
    "\\end{equation*}$.\n",
    "In order to ensure that\n",
    "$\\begin{equation*}\n",
    "f_t \\approx 1\n",
    "\\end{equation*}$,\n",
    "we need to ensure that\n",
    "$\\begin{equation*}\n",
    "U^f(d) \\cdot h_{t-1}\n",
    "\\end{equation*}$\n",
    "is maximum as it is the input to the sigmoid function. Ensuring that $\\begin{equation*}\n",
    "U^f(d) \\cdot h_{t-1}\n",
    "\\end{equation*}$\n",
    "is maximum would result in a higher chance of the sigmoid output being 1. As it is a dot product,\n",
    "$\\begin{equation*}\n",
    "U^f(d)\n",
    "\\end{equation*}$\n",
    "should be in the same direction as\n",
    "$\\begin{equation*}\n",
    "h_{t-1}\n",
    "\\end{equation*}$.\n",
    "Thus, the d has to be a value that ensures that \n",
    "$\\begin{equation*}\n",
    "U^f(d)\n",
    "\\end{equation*}$\n",
    "is in the same direction as\n",
    "$\\begin{equation*}\n",
    "h_{t-1}\n",
    "\\end{equation*}$."
   ]
  },
  {
   "cell_type": "markdown",
   "metadata": {},
   "source": [
    "1.7:  \n",
    "in the task above, the arg max do not depend on \n",
    "$\\begin{equation*}\n",
    "W^f(d)\\cdot x_t\n",
    "\\end{equation*}$ as it is set to 0. It depends solely on whether we can maximise the value of $\\begin{equation*}\n",
    "h_{t-1} \\cdot U^f(d)\n",
    "\\end{equation*}$"
   ]
  },
  {
   "cell_type": "code",
   "execution_count": null,
   "metadata": {},
   "outputs": [],
   "source": []
  }
 ],
 "metadata": {
  "kernelspec": {
   "display_name": "Python 3",
   "language": "python",
   "name": "python3"
  },
  "language_info": {
   "codemirror_mode": {
    "name": "ipython",
    "version": 3
   },
   "file_extension": ".py",
   "mimetype": "text/x-python",
   "name": "python",
   "nbconvert_exporter": "python",
   "pygments_lexer": "ipython3",
   "version": "3.6.5"
  }
 },
 "nbformat": 4,
 "nbformat_minor": 2
}
