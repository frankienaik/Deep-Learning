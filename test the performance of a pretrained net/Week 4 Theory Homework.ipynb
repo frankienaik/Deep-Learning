{
 "cells": [
  {
   "cell_type": "markdown",
   "metadata": {},
   "source": [
    "## Week 4 Theory HW\n",
    "### Naik Hiong Chiang"
   ]
  },
  {
   "cell_type": "markdown",
   "metadata": {},
   "source": [
    "## Task 1:\n",
    "$$\\begin{equation*}\n",
    "\\varphi(x) = \\frac {1} {1 + e^{-ax}}\n",
    "\\end{equation*}$$\n",
    "1. Prove\n",
    "$$\\begin{equation*}\n",
    "\\varphi'(x) = \\frac {\\partial \\varphi(x)} {\\partial x}\n",
    "\\end{equation*}$$$$\\begin{equation*}\n",
    "= \\frac {\\partial (1 + e^{-ax})^{-1}} {\\partial x}\n",
    "\\end{equation*}$$$$\\begin{equation*}\n",
    "=a \\frac {e^{-ax}} {(1+e^{-ax})^2}\n",
    "\\end{equation*}$$$$\\begin{equation*}\n",
    "=a \\frac {1} {1+e^{-ax}} \\cdot \\frac {e^{-ax}} {1+e^{-ax}}\n",
    "\\end{equation*}$$$$\\begin{equation*}\n",
    "=a \\frac {1} {1+e^{-ax}} \\cdot \\frac {1 + e^{-ax} -1} {1+e^{-ax}}\n",
    "\\end{equation*}$$$$\\begin{equation*}\n",
    "=a \\frac {1} {1+e^{-ax}} \\cdot \\Big( 1- \\frac {1} {1+e^{-ax}} \\Big)\n",
    "\\end{equation*}$$$$\\begin{equation*}\n",
    "= a \\varphi(x)[1-\\varphi(x)]\n",
    "\\end{equation*}$$\n",
    "2. Value\n",
    "$$\\begin{equation*}\n",
    "\\varphi(0) = \\frac {1} {1 + e^0}\n",
    "\\end{equation*}$$$$\\begin{equation*}\n",
    "= \\frac {1} {1 + 1}\n",
    "\\end{equation*}$$$$\\begin{equation*}\n",
    "= \\frac {1} {2}\n",
    "\\end{equation*}$$$$\\begin{equation*}\n",
    "\\varphi'(0) = a \\varphi(0)[1-\\varphi(0)]\n",
    "\\end{equation*}$$$$\\begin{equation*}\n",
    "= a \\frac {1} {2} \\Big[ 1-\\frac {1} {2} \\Big]\n",
    "\\end{equation*}$$$$\\begin{equation*}\n",
    "= \\frac {1} {4} a\n",
    "\\end{equation*}$$"
   ]
  },
  {
   "cell_type": "markdown",
   "metadata": {},
   "source": [
    "## Task 2:\n",
    "1.\n",
    "$$\\begin{equation*}\n",
    "\\varphi(x) = \\frac {1} {1 + e^{c(w_ix_i)}}\n",
    "\\end{equation*}$$\n",
    "2.\n",
    "$$\\begin{equation*}\n",
    "h(x_1,x_2) = c(w_8(w_1 + x_1w_3 + x_2w_5)) + c(w_9(w_6x_2 + w_4x_1 + w_2)) + w_7\n",
    "\\end{equation*}$$\n",
    "3.\n",
    "<img src=\"task2.jpg\">\n",
    "4.\n",
    "- From Bias 1:\n",
    "$\\begin{equation*}\n",
    "c[w_8w_1 + w_9w_2] + w_7\n",
    "\\end{equation*}$\n",
    "-  From x1:\n",
    "$\\begin{equation*}\n",
    "c[w_8w_3 + w_9w_4]\n",
    "\\end{equation*}$\n",
    "-  From x2:\n",
    "$\\begin{equation*}\n",
    "c[w_8w_5 + w_9w_6]\n",
    "\\end{equation*}$"
   ]
  },
  {
   "cell_type": "markdown",
   "metadata": {},
   "source": [
    "## Task 3:\n",
    "$$\\begin{equation*}\n",
    "res = ceil((M - ksize + 1 +2r)/s)\n",
    "\\end{equation*}$$\n",
    "layer 1:\n",
    "$$\\begin{equation*}\n",
    "res = ceil((300 - 7 + 1)/2)\n",
    "\\end{equation*}$$\n",
    "$$\\begin{equation*}\n",
    "res = 147\n",
    "\\end{equation*}$$\n",
    "$$\\begin{equation*}\n",
    "answer : (147,147,30)\n",
    "\\end{equation*}$$\n",
    "layer 2:\n",
    "$$\\begin{equation*}\n",
    "res = ceil((147 - 3 +1)/2)\n",
    "\\end{equation*}$$\n",
    "$$\\begin{equation*}\n",
    "res = 73\n",
    "\\end{equation*}$$\n",
    "$$\\begin{equation*}\n",
    "answer : (73,73,30)\n",
    "\\end{equation*}$$\n",
    "layer 3:\n",
    "$$\\begin{equation*}\n",
    "res = ceil((73 -3 +1 +6)/1)\n",
    "\\end{equation*}$$\n",
    "$$\\begin{equation*}\n",
    "res = 77\n",
    "\\end{equation*}$$\n",
    "$$\\begin{equation*}\n",
    "answer : (77,77,50)\n",
    "\\end{equation*}$$\n",
    "\n"
   ]
  }
 ],
 "metadata": {
  "kernelspec": {
   "display_name": "Python 3",
   "language": "python",
   "name": "python3"
  },
  "language_info": {
   "codemirror_mode": {
    "name": "ipython",
    "version": 3
   },
   "file_extension": ".py",
   "mimetype": "text/x-python",
   "name": "python",
   "nbconvert_exporter": "python",
   "pygments_lexer": "ipython3",
   "version": "3.6.5"
  }
 },
 "nbformat": 4,
 "nbformat_minor": 2
}
